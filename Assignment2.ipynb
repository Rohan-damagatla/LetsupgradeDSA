{
  "nbformat": 4,
  "nbformat_minor": 0,
  "metadata": {
    "colab": {
      "name": "Untitled5.ipynb",
      "provenance": [],
      "authorship_tag": "ABX9TyNWVVdd4Wa4fhRGuQAJXdZv",
      "include_colab_link": true
    },
    "kernelspec": {
      "name": "python3",
      "display_name": "Python 3"
    }
  },
  "cells": [
    {
      "cell_type": "markdown",
      "metadata": {
        "id": "view-in-github",
        "colab_type": "text"
      },
      "source": [
        "<a href=\"https://colab.research.google.com/github/Rohan-damagatla/LetsupgradeDSA/blob/main/Assignment2.ipynb\" target=\"_parent\"><img src=\"https://colab.research.google.com/assets/colab-badge.svg\" alt=\"Open In Colab\"/></a>"
      ]
    },
    {
      "cell_type": "code",
      "metadata": {
        "colab": {
          "base_uri": "https://localhost:8080/"
        },
        "id": "my7cUVeZ3N6Z",
        "outputId": "704dd3b3-4c86-40b4-d244-45fa13d72372"
      },
      "source": [
        "x= [int(i) for i in input('Enter listval:').split(' ')]\r\n",
        "for i in x:\r\n",
        "  if(i%2!=0):\r\n",
        "    x.remove(i)\r\n",
        "print(x)"
      ],
      "execution_count": 9,
      "outputs": [
        {
          "output_type": "stream",
          "text": [
            "Enter listval:1 2 3 4 5\n",
            "[2, 4]\n"
          ],
          "name": "stdout"
        }
      ]
    },
    {
      "cell_type": "code",
      "metadata": {
        "colab": {
          "base_uri": "https://localhost:8080/"
        },
        "id": "FnAQtDLcAgDH",
        "outputId": "c56efa4b-bf76-47cb-e3b2-8bb0cc1322ca"
      },
      "source": [
        "n=5\r\n",
        "for i in range(1,n+1):\r\n",
        "  print(' '*(n-i),str(i)*i)"
      ],
      "execution_count": 18,
      "outputs": [
        {
          "output_type": "stream",
          "text": [
            "     1\n",
            "    22\n",
            "   333\n",
            "  4444\n",
            " 55555\n"
          ],
          "name": "stdout"
        }
      ]
    }
  ]
}