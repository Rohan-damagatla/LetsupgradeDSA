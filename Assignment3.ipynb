{
  "nbformat": 4,
  "nbformat_minor": 0,
  "metadata": {
    "colab": {
      "name": "Untitled5.ipynb",
      "provenance": [],
      "authorship_tag": "ABX9TyM8xpvlqpnbM8DhXPlABAfG",
      "include_colab_link": true
    },
    "kernelspec": {
      "name": "python3",
      "display_name": "Python 3"
    }
  },
  "cells": [
    {
      "cell_type": "markdown",
      "metadata": {
        "id": "view-in-github",
        "colab_type": "text"
      },
      "source": [
        "<a href=\"https://colab.research.google.com/github/Rohan-damagatla/LetsupgradeDSA/blob/main/Assignment3.ipynb\" target=\"_parent\"><img src=\"https://colab.research.google.com/assets/colab-badge.svg\" alt=\"Open In Colab\"/></a>"
      ]
    },
    {
      "cell_type": "code",
      "metadata": {
        "colab": {
          "base_uri": "https://localhost:8080/"
        },
        "id": "SEJ5D0rdBF4x",
        "outputId": "e7bd011f-3c1d-44b3-9f85-c225a7e23dfc"
      },
      "source": [
        "class addition():\r\n",
        "  def __init__(self):\r\n",
        "    self.a=0\r\n",
        "    self.b=0\r\n",
        "  def add(self,a,b):\r\n",
        "    print(self.a+self.b)\r\n",
        "\r\n",
        "sum=addition()\r\n",
        "sum.a=int(input(\"Enter first value: \"))\r\n",
        "sum.b=int(input(\"Enter second value: \"))\r\n",
        "sum.add(a,b)\r\n"
      ],
      "execution_count": 7,
      "outputs": [
        {
          "output_type": "stream",
          "text": [
            "Enter first value: 1\n",
            "Enter second value: 2\n",
            "3\n"
          ],
          "name": "stdout"
        }
      ]
    },
    {
      "cell_type": "code",
      "metadata": {
        "colab": {
          "base_uri": "https://localhost:8080/"
        },
        "id": "6woFhIiVGRng",
        "outputId": "6ae7a56c-3550-4efe-d56f-feca9d051ff7"
      },
      "source": [
        "def swap(a,b):\r\n",
        "  temp=a\r\n",
        "  a=b\r\n",
        "  b=temp\r\n",
        "  return a,b\r\n",
        "\r\n",
        "a=int(input(\"Enter first value: \"))\r\n",
        "b=int(input(\"Enter second value: \"))\r\n",
        "print(\"Before swapping: \",a,b)\r\n",
        "a,b= swap(a,b)\r\n",
        "print(\"After swapping: \",a,b)\r\n"
      ],
      "execution_count": 11,
      "outputs": [
        {
          "output_type": "stream",
          "text": [
            "Enter first value: 4\n",
            "Enter second value: 5\n",
            "Before swapping:  4 5\n",
            "After swapping:  5 4\n"
          ],
          "name": "stdout"
        }
      ]
    }
  ]
}