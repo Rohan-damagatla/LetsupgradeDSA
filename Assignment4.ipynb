{
  "nbformat": 4,
  "nbformat_minor": 0,
  "metadata": {
    "colab": {
      "name": "Untitled5.ipynb",
      "provenance": [],
      "authorship_tag": "ABX9TyOuQWUvjVMKEY2g0W98URan",
      "include_colab_link": true
    },
    "kernelspec": {
      "name": "python3",
      "display_name": "Python 3"
    }
  },
  "cells": [
    {
      "cell_type": "markdown",
      "metadata": {
        "id": "view-in-github",
        "colab_type": "text"
      },
      "source": [
        "<a href=\"https://colab.research.google.com/github/Rohan-damagatla/LetsupgradeDSA/blob/main/Assignment4.ipynb\" target=\"_parent\"><img src=\"https://colab.research.google.com/assets/colab-badge.svg\" alt=\"Open In Colab\"/></a>"
      ]
    },
    {
      "cell_type": "code",
      "metadata": {
        "colab": {
          "base_uri": "https://localhost:8080/"
        },
        "id": "XObqq9SnTMUG",
        "outputId": "63976ce7-a487-48c8-f59e-989fac967d8a"
      },
      "source": [
        "#LinkedList implementation - 1&3 Questions\r\n",
        "\r\n",
        "class Node:\r\n",
        "  def __init__(self, data):\r\n",
        "    self.data = data\r\n",
        "    self.next = None\r\n",
        "\r\n",
        "class LinkedList:\r\n",
        "  def __init__(self):\r\n",
        "    self.head = None\r\n",
        "  \r\n",
        "  def insertEnd(self, data):\r\n",
        "    new = Node(data)\r\n",
        "    if self.head == None:\r\n",
        "      self.head = new\r\n",
        "      return\r\n",
        "    temp = self.head\r\n",
        "    while temp.next != None:\r\n",
        "      temp = temp.next\r\n",
        "    temp.next = new\r\n",
        "    \r\n",
        "  def insertstart(self, data):\r\n",
        "    new = Node(data)\r\n",
        "    if self.head == None:\r\n",
        "      self.head = new\r\n",
        "      return\r\n",
        "    new.next = self.head\r\n",
        "    self.head = new\r\n",
        "    \r\n",
        "\r\n",
        "  def deleteBeg(self):\r\n",
        "    if self.head == None:\r\n",
        "      print(\"Linked List Empty\")\r\n",
        "      return\r\n",
        "    self.head = self.head.next\r\n",
        "\r\n",
        "  def deleteEnd(self):\r\n",
        "    if self.head == None:\r\n",
        "      print(\"No node to delete\")\r\n",
        "      return\r\n",
        "    if self.head.next == None: \r\n",
        "        self.head = None\r\n",
        "        return\r\n",
        "    temp = self.head\r\n",
        "    while temp.next.next != None:\r\n",
        "      temp = temp.next\r\n",
        "    temp.next = None\r\n",
        "\r\n",
        "  def display(self):\r\n",
        "    if self.head == None:\r\n",
        "      print(\"No node to display\")\r\n",
        "      return\r\n",
        "    temp = self.head\r\n",
        "    while temp != None:\r\n",
        "      print(temp.data)\r\n",
        "      temp = temp.next\r\n",
        "\r\n",
        "  def middlenode(self):\r\n",
        "    if self.head == None:\r\n",
        "      print(\"No node to display\")\r\n",
        "      return\r\n",
        "    temp = self.head\r\n",
        "    count=0\r\n",
        "    x = 0\r\n",
        "    while temp != None:\r\n",
        "      temp = temp.next\r\n",
        "      count = count+1\r\n",
        "    temp1 = self.head\r\n",
        "    while x != int(count/2):\r\n",
        "      temp1 = temp1.next\r\n",
        "      x = x+1\r\n",
        "    print(\"Middle Node value: \",temp1.data)\r\n",
        "\r\n",
        "li = LinkedList()\r\n",
        "li.insertEnd(20)\r\n",
        "li.insertEnd(30)\r\n",
        "li.insertstart(10)\r\n",
        "#li.deleteEnd()\r\n",
        "li.display()\r\n",
        "li.middlenode()\r\n"
      ],
      "execution_count": 39,
      "outputs": [
        {
          "output_type": "stream",
          "text": [
            "10\n",
            "20\n",
            "30\n",
            "Middle Node value:  20\n"
          ],
          "name": "stdout"
        }
      ]
    },
    {
      "cell_type": "code",
      "metadata": {
        "colab": {
          "base_uri": "https://localhost:8080/"
        },
        "id": "KtI4blzBYTfe",
        "outputId": "41c2e22a-18c1-4f8f-a1ee-138a7d7c57ca"
      },
      "source": [
        "#Binary Search\r\n",
        "\r\n",
        "l = [int(i) for i in input(\"Enter the list of numbers: \").split()]\r\n",
        "x = int(input(\"Enter the number to search: \"))\r\n",
        "begin=0\r\n",
        "end=len(l)-1\r\n",
        "flag=0\r\n",
        "while(begin <= end):\r\n",
        "  mid=round((begin+end)/2)\r\n",
        "  if(x == l[mid]):\r\n",
        "    print(\"Number found at index:\",mid)\r\n",
        "    flag=1\r\n",
        "    break\r\n",
        "  elif(x <= l[mid]):\r\n",
        "    end = mid-1\r\n",
        "  else:\r\n",
        "    begin = mid+1\r\n",
        "if(flag == 0):\r\n",
        "  print(\"Number not found in list\")\r\n",
        "\r\n"
      ],
      "execution_count": 34,
      "outputs": [
        {
          "output_type": "stream",
          "text": [
            "Enter the list of numbers: 1 2 3 4 5 6\n",
            "Enter the number to search: 6\n",
            "Number found at index: 5\n"
          ],
          "name": "stdout"
        }
      ]
    }
  ]
}