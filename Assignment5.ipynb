{
  "nbformat": 4,
  "nbformat_minor": 0,
  "metadata": {
    "colab": {
      "name": "Untitled5.ipynb",
      "provenance": [],
      "authorship_tag": "ABX9TyNWle7zAQYXOf4ogPxXBAJ/",
      "include_colab_link": true
    },
    "kernelspec": {
      "name": "python3",
      "display_name": "Python 3"
    }
  },
  "cells": [
    {
      "cell_type": "markdown",
      "metadata": {
        "id": "view-in-github",
        "colab_type": "text"
      },
      "source": [
        "<a href=\"https://colab.research.google.com/github/Rohan-damagatla/LetsupgradeDSA/blob/main/Assignment5.ipynb\" target=\"_parent\"><img src=\"https://colab.research.google.com/assets/colab-badge.svg\" alt=\"Open In Colab\"/></a>"
      ]
    },
    {
      "cell_type": "markdown",
      "metadata": {
        "id": "Qhd1KmBpsxC0"
      },
      "source": [
        "Assignemt 5\r\n",
        "\r\n",
        "1) Bubble Sort:\r\n",
        "   Best - O(n)\r\n",
        "   Average - O(n2)\r\n",
        "   Worst - O(n2)\r\n",
        "   \r\n",
        "2) Selection Sort:\r\n",
        "   Best - O(n2)\r\n",
        "   Average - O(n2)\r\n",
        "   Worst - O(n2)\r\n",
        "\r\n",
        "3) Insertion Sort:\r\n",
        "   Best - O(n)\r\n",
        "   Average - O(n2)\r\n",
        "   Worst - O(n2)\r\n",
        "\r\n",
        "4) Heap Sort:\r\n",
        "   Best - O(nlogn)\r\n",
        "   Average - O(nlogn)\r\n",
        "   Worst - O(nlogn)\r\n",
        "\r\n",
        "3) Quick Sort:\r\n",
        "   Best - O(nlogn)\r\n",
        "   Average - O(nlogn)\r\n",
        "   Worst - O(n2)"
      ]
    },
    {
      "cell_type": "code",
      "metadata": {
        "colab": {
          "base_uri": "https://localhost:8080/"
        },
        "id": "Fimtq9IFzvd0",
        "outputId": "8e7186b5-2c1c-421a-9eb0-c781c31554bd"
      },
      "source": [
        "#Selection Sort\r\n",
        "\r\n",
        "l = [int(i) for i in input(\"Enter list elements: \").split()]\r\n",
        "for i in range(0, len(l)): \r\n",
        "    min_idx = i \r\n",
        "    for j in range(i+1, len(l)): \r\n",
        "        if l[min_idx] > l[j]: \r\n",
        "            min_idx = j          \r\n",
        "    l[i], l[min_idx] = l[min_idx], l[i]  \r\n",
        "print (\"Sorted array\")  \r\n",
        "print(l)"
      ],
      "execution_count": 1,
      "outputs": [
        {
          "output_type": "stream",
          "text": [
            "Enter list elements: 2 1 8 5 9 7\n",
            "Sorted array\n",
            "[1, 2, 5, 7, 8, 9]\n"
          ],
          "name": "stdout"
        }
      ]
    },
    {
      "cell_type": "code",
      "metadata": {
        "colab": {
          "base_uri": "https://localhost:8080/"
        },
        "id": "nTifLW6_0wfv",
        "outputId": "6f05c345-5552-4479-d463-b80976d85c21"
      },
      "source": [
        "# Insertion Sort\r\n",
        "\r\n",
        "l = [int(i) for i in input(\"Enter list elements: \").split()]\r\n",
        "for j in range(1, len(l)): \r\n",
        "    key = l[j]\r\n",
        "    i = j-1\r\n",
        "    while i >=0 and l[i] > key:\r\n",
        "      l[i+1] = l[i]\r\n",
        "      i = i-1\r\n",
        "    l[i+1] = key  \r\n",
        "print (\"Sorted array\")  \r\n",
        "print(l)"
      ],
      "execution_count": 2,
      "outputs": [
        {
          "output_type": "stream",
          "text": [
            "Enter list elements: 2 1 8 5 9 7\n",
            "Sorted array\n",
            "[1, 2, 5, 7, 8, 9]\n"
          ],
          "name": "stdout"
        }
      ]
    },
    {
      "cell_type": "code",
      "metadata": {
        "colab": {
          "base_uri": "https://localhost:8080/"
        },
        "id": "-r4JafPK6I3r",
        "outputId": "885c5599-89f8-426c-8099-e1c932e9ac2d"
      },
      "source": [
        "#Stack\r\n",
        "\r\n",
        "def push(x):\r\n",
        "  global l,top,size\r\n",
        "  if(top == size-1):\r\n",
        "    print(\"Stack overflow\")\r\n",
        "    return\r\n",
        "  top = top+1\r\n",
        "  l.insert(top,x)\r\n",
        "\r\n",
        "def display():\r\n",
        "  global l,top,size\r\n",
        "  if(top == -1):\r\n",
        "    print(\"Stack is empty\")\r\n",
        "    return\r\n",
        "  for i in range(top, -1, -1):\r\n",
        "    print(l[i])\r\n",
        "\r\n",
        "def pop():\r\n",
        "  global l,top,size\r\n",
        "  if(top == -1):\r\n",
        "    print(\"Stack underflow\")\r\n",
        "    return\r\n",
        "  a = l[top]\r\n",
        "  l.remove(l[top])\r\n",
        "  print(\"Element popped from stack is:\", a)\r\n",
        "  top = top-1\r\n",
        "  \r\n",
        "l= list()\r\n",
        "size = 10\r\n",
        "top = -1\r\n",
        "\r\n",
        "push(10)\r\n",
        "push(20)\r\n",
        "push(30)\r\n",
        "display()\r\n",
        "pop()\r\n",
        "display()"
      ],
      "execution_count": 6,
      "outputs": [
        {
          "output_type": "stream",
          "text": [
            "30\n",
            "20\n",
            "10\n",
            "Element popped from stack is: 30\n",
            "20\n",
            "10\n"
          ],
          "name": "stdout"
        }
      ]
    },
    {
      "cell_type": "code",
      "metadata": {
        "colab": {
          "base_uri": "https://localhost:8080/"
        },
        "id": "vbT9KIEzC2LZ",
        "outputId": "180929a6-1e16-45cf-e788-0b53c874e2a9"
      },
      "source": [
        "#Queue\r\n",
        "\r\n",
        "def enqueue(x):\r\n",
        "  global l,f,r,size\r\n",
        "  if(r == size-1):\r\n",
        "    print(\"Queue is full\")\r\n",
        "    return\r\n",
        "  if(f == -1 and r == -1):\r\n",
        "    f = r = 0\r\n",
        "    l.insert(f,x)\r\n",
        "  else:\r\n",
        "    r = r+1\r\n",
        "    l.insert(r,x)\r\n",
        "\r\n",
        "def dequeue():\r\n",
        "  global l,f,r,size\r\n",
        "  if(f == -1):\r\n",
        "    print(\"Queue is empty\")\r\n",
        "    return\r\n",
        "  if(f == r):\r\n",
        "    a= l[f]\r\n",
        "    l.remove(l[f])\r\n",
        "    print(\"Element removed from queue is:\", a)\r\n",
        "    f = r = -1\r\n",
        "  else:\r\n",
        "    a= l[f]\r\n",
        "    l.remove(l[f])\r\n",
        "    print(\"Element removed from queue is:\", a)\r\n",
        "\r\n",
        "def display():\r\n",
        "  global l,f,r,size\r\n",
        "  if(f == -1):\r\n",
        "    print(\"Queue is empty\")\r\n",
        "    return\r\n",
        "  print(l)\r\n",
        "\r\n",
        "l= list()\r\n",
        "size = 10\r\n",
        "f = -1\r\n",
        "r = -1\r\n",
        "\r\n",
        "enqueue(10)\r\n",
        "enqueue(20)\r\n",
        "enqueue(30)\r\n",
        "display()\r\n",
        "dequeue()\r\n",
        "dequeue()\r\n",
        "dequeue()\r\n",
        "display()"
      ],
      "execution_count": 13,
      "outputs": [
        {
          "output_type": "stream",
          "text": [
            "[10, 20, 30]\n",
            "Element removed from queue is: 10\n",
            "Element removed from queue is: 20\n",
            "Element removed from queue is: 30\n",
            "[]\n"
          ],
          "name": "stdout"
        }
      ]
    }
  ]
}