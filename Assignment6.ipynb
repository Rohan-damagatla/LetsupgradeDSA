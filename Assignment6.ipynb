{
  "nbformat": 4,
  "nbformat_minor": 0,
  "metadata": {
    "colab": {
      "name": "Untitled5.ipynb",
      "provenance": [],
      "authorship_tag": "ABX9TyN9qZw6T6mjC/ebh3ZWeMrK",
      "include_colab_link": true
    },
    "kernelspec": {
      "name": "python3",
      "display_name": "Python 3"
    }
  },
  "cells": [
    {
      "cell_type": "markdown",
      "metadata": {
        "id": "view-in-github",
        "colab_type": "text"
      },
      "source": [
        "<a href=\"https://colab.research.google.com/github/Rohan-damagatla/LetsupgradeDSA/blob/main/Assignment6.ipynb\" target=\"_parent\"><img src=\"https://colab.research.google.com/assets/colab-badge.svg\" alt=\"Open In Colab\"/></a>"
      ]
    },
    {
      "cell_type": "code",
      "metadata": {
        "id": "-r4JafPK6I3r",
        "colab": {
          "base_uri": "https://localhost:8080/"
        },
        "outputId": "6f0f99ed-5951-4e9d-f85f-758be281f0fc"
      },
      "source": [
        "#Barua\r\n",
        "\r\n",
        "l = input(\"Enter values:\").split()\r\n",
        "p=1\r\n",
        "count=0\r\n",
        "\r\n",
        "for i in l:\r\n",
        "  count = count + (len(i) - len(i.rstrip('0')))\r\n",
        "  i = i.rstrip('0')\r\n",
        "  p = p*int(i)\r\n",
        "\r\n",
        "print(str(p) + '0'*count)"
      ],
      "execution_count": 5,
      "outputs": [
        {
          "output_type": "stream",
          "text": [
            "Enter values:100 121 1000000000000000\n",
            "12100000000000000000\n"
          ],
          "name": "stdout"
        }
      ]
    },
    {
      "cell_type": "code",
      "metadata": {
        "colab": {
          "base_uri": "https://localhost:8080/"
        },
        "id": "aeSEox_A8wnb",
        "outputId": "3e26fb04-f7e9-4acb-cc74-0ee97ffc6fc6"
      },
      "source": [
        "#Push Pop Min of stack in O(1)\r\n",
        "\r\n",
        "def push(self,top, x):\r\n",
        "  global size\r\n",
        "  if(top == size-1):\r\n",
        "    print(\"Stack overflow\")\r\n",
        "    return\r\n",
        "  top = top+1\r\n",
        "  self.insert(top,x)\r\n",
        "  return self,top\r\n",
        "\r\n",
        "def display(self,top):\r\n",
        "  global size\r\n",
        "  if(top == -1):\r\n",
        "    print(\"Stack is empty\")\r\n",
        "    return\r\n",
        "  for i in range(top, -1, -1):\r\n",
        "    print(self[i])\r\n",
        "\r\n",
        "def pop(self, top):\r\n",
        "  global size\r\n",
        "  if(top == -1):\r\n",
        "    print(\"Stack underflow\")\r\n",
        "    return\r\n",
        "  a = self[top]\r\n",
        "  self.remove(self[top])\r\n",
        "  print(\"Element popped from stack is:\", a)\r\n",
        "  top = top-1\r\n",
        "  return self,top\r\n",
        "\r\n",
        "l= list()\r\n",
        "min_l = list()\r\n",
        "size = 10\r\n",
        "top_l = -1\r\n",
        "top_min = -1\r\n",
        "  \r\n",
        "l,top_l=push(l,top_l,10)\r\n",
        "min_l,top_min=push(min_l,top_min,10)\r\n",
        "l,top_l=push(l,top_l,20)\r\n",
        "if(min_l[top_min] <= 20):\r\n",
        "  a = min_l[top_min]\r\n",
        "  min_l,top_min=push(min_l,top_min,a)\r\n",
        "l,top_l=push(l,top_l,30)\r\n",
        "if(min_l[top_min] <= 30):\r\n",
        "  a = min_l[top_min]\r\n",
        "  min_l,top_min=push(min_l,top_min,a)\r\n",
        "display(l,top_l)\r\n",
        "print(\"The min value in stack is:\", min_l[top_min])"
      ],
      "execution_count": null,
      "outputs": [
        {
          "output_type": "stream",
          "text": [
            "30\n",
            "20\n",
            "10\n",
            "The min value in stack is: 10\n"
          ],
          "name": "stdout"
        }
      ]
    }
  ]
}